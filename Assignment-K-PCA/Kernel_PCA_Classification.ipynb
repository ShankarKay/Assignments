{
 "cells": [
  {
   "cell_type": "code",
   "execution_count": 1,
   "id": "c910b26d-5367-499b-a01a-e116ea40ca57",
   "metadata": {},
   "outputs": [],
   "source": [
    "from sklearn.model_selection import train_test_split\n",
    "import time\n",
    "import pandas as pd\n",
    "import numpy as np\n",
    "from sklearn.preprocessing import StandardScaler\n",
    "# **HIGHLIGHT START**\n",
    "from sklearn.decomposition import KernelPCA # Changed import from PCA/LDA to KernelPCA\n",
    "# **HIGHLIGHT END**\n",
    "from sklearn.linear_model import LogisticRegression\n",
    "from sklearn.svm import SVC\n",
    "from sklearn.naive_bayes import GaussianNB\n",
    "from sklearn.neighbors import KNeighborsClassifier\n",
    "from sklearn.tree import DecisionTreeClassifier\n",
    "from sklearn.ensemble import RandomForestClassifier\n",
    "from sklearn.metrics import accuracy_score, classification_report, confusion_matrix\n",
    "import pickle\n",
    "import matplotlib.pyplot as plt\n",
    "from sklearn.discriminant_analysis import LinearDiscriminantAnalysis as LDA # Kept for general library import, but won't be used"
   ]
  },
  {
   "cell_type": "code",
   "execution_count": 2,
   "id": "674bd4a9-ace6-40d5-89e7-71ec360fcda9",
   "metadata": {},
   "outputs": [],
   "source": [
    "# --- Data Loading and Preprocessing (Unchanged) ---\n",
    "dataset1 = pd.read_csv(\"Wine.csv\", index_col=None)\n",
    "df2 = dataset1"
   ]
  },
  {
   "cell_type": "code",
   "execution_count": 3,
   "id": "54355b15-b8e7-4b18-80c9-fa6203030e8a",
   "metadata": {},
   "outputs": [],
   "source": [
    "for column in df2.columns:\n",
    "    df2[column] = pd.to_numeric(df2[column], errors='coerce')\n",
    "\n",
    "for column in df2.columns:\n",
    "    if df2[column].isnull().any():\n",
    "        df2[column] = df2[column].fillna(df2[column].mean())\n",
    "\n",
    "df2.replace([np.inf, -np.inf], np.nan, inplace=True)\n",
    "for column in df2.columns:\n",
    "    if df2[column].isnull().any():\n",
    "        df2[column] = df2[column].fillna(df2[column].mean())\n",
    "\n",
    "indep_X = df2.drop('Customer_Segment', axis=1).values\n",
    "dep_Y = df2['Customer_Segment'].values"
   ]
  },
  {
   "cell_type": "code",
   "execution_count": 4,
   "id": "7819f062-cf59-421b-bb27-ac4824181dba",
   "metadata": {},
   "outputs": [],
   "source": [
    "def split_scalar(indep_X, dep_Y):\n",
    "    \"\"\"Splits data into training and testing sets and scales them.\"\"\"\n",
    "    X_train, X_test, y_train, y_test = train_test_split(indep_X, dep_Y, test_size=0.25, random_state=0)\n",
    "    sc = StandardScaler()\n",
    "    X_train = sc.fit_transform(X_train)\n",
    "    X_test = sc.transform(X_test)\n",
    "    return X_train, X_test, y_train, y_test"
   ]
  },
  {
   "cell_type": "code",
   "execution_count": 5,
   "id": "81eda5ed-3881-4233-ba86-707d0b74652f",
   "metadata": {},
   "outputs": [],
   "source": [
    "def cm_prediction(classifier, X_test, y_test):\n",
    "    \"\"\"Makes predictions, calculates metrics, and returns them.\"\"\"\n",
    "    y_pred = classifier.predict(X_test)\n",
    "    cm = confusion_matrix(y_test, y_pred)\n",
    "    report = classification_report(y_test, y_pred) \n",
    "    Accuracy = accuracy_score(y_test, y_pred)\n",
    "    return classifier, Accuracy, report, cm"
   ]
  },
  {
   "cell_type": "code",
   "execution_count": 6,
   "id": "4919bd29-bddf-4678-adfe-d987a6e80ee2",
   "metadata": {},
   "outputs": [],
   "source": [
    "def logistic(X_train, y_train, X_test, y_test):\n",
    "    classifier = LogisticRegression(random_state=0)\n",
    "    classifier.fit(X_train, y_train)\n",
    "    return cm_prediction(classifier, X_test, y_test)"
   ]
  },
  {
   "cell_type": "code",
   "execution_count": 7,
   "id": "3a4a3cfa-ef1e-460e-8022-6d670f662f68",
   "metadata": {},
   "outputs": [],
   "source": [
    "def svm_linear(X_train, y_train, X_test, y_test):\n",
    "    classifier = SVC(kernel='linear', random_state=0)\n",
    "    classifier.fit(X_train, y_train)\n",
    "    return cm_prediction(classifier, X_test, y_test)"
   ]
  },
  {
   "cell_type": "code",
   "execution_count": 8,
   "id": "ebd9910d-fc1a-41e8-9ac5-933acb5cbe11",
   "metadata": {},
   "outputs": [],
   "source": [
    "def svm_NL(X_train, y_train, X_test, y_test):\n",
    "    classifier = SVC(kernel='rbf', random_state=0)\n",
    "    classifier.fit(X_train, y_train)\n",
    "    return cm_prediction(classifier, X_test, y_test)"
   ]
  },
  {
   "cell_type": "code",
   "execution_count": 9,
   "id": "aac56ec8-7a1d-4a41-89c0-a40024db3b24",
   "metadata": {},
   "outputs": [],
   "source": [
    "def Navie(X_train, y_train, X_test, y_test):\n",
    "    classifier = GaussianNB()\n",
    "    classifier.fit(X_train, y_train)\n",
    "    return cm_prediction(classifier, X_test, y_test)"
   ]
  },
  {
   "cell_type": "code",
   "execution_count": 10,
   "id": "db7a4a8a-1484-44f9-91c8-43f044819ad1",
   "metadata": {},
   "outputs": [],
   "source": [
    "def knn(X_train, y_train, X_test, y_test):\n",
    "    classifier = KNeighborsClassifier(n_neighbors=5, metric='minkowski', p=2)\n",
    "    classifier.fit(X_train, y_train)\n",
    "    return cm_prediction(classifier, X_test, y_test)"
   ]
  },
  {
   "cell_type": "code",
   "execution_count": 11,
   "id": "ba4597e9-d917-48dc-b4ad-c0c3ad1abc05",
   "metadata": {},
   "outputs": [],
   "source": [
    "def Decision(X_train, y_train, X_test, y_test):\n",
    "    classifier = DecisionTreeClassifier(criterion='entropy', random_state=0)\n",
    "    classifier.fit(X_train, y_train)\n",
    "    return cm_prediction(classifier, X_test, y_test)"
   ]
  },
  {
   "cell_type": "code",
   "execution_count": 12,
   "id": "9fed3c07-2247-488e-bf0a-9e3320328c7d",
   "metadata": {},
   "outputs": [],
   "source": [
    "def random(X_train, y_train, X_test, y_test):\n",
    "    classifier = RandomForestClassifier(n_estimators=10, criterion='entropy', random_state=0)\n",
    "    classifier.fit(X_train, y_train)\n",
    "    return cm_prediction(classifier, X_test, y_test)"
   ]
  },
  {
   "cell_type": "code",
   "execution_count": 13,
   "id": "966c6b7d-dd9b-4d43-957a-8bfa7217ac32",
   "metadata": {},
   "outputs": [],
   "source": [
    "def KPCA_Classification(acclog, accsvml, accsvmnl, accknn, accnav, accdes, accrf, kpca_components_list):\n",
    "    \"\"\"Generates a DataFrame of results for different KPCA component numbers.\"\"\"\n",
    "    dataframe = pd.DataFrame(index=kpca_components_list, columns=['Logistic','SVMl','SVMnl','KNN','Navie','Decision','Random'])\n",
    "    # **HIGHLIGHT END**\n",
    "    for number, idex in enumerate(dataframe.index):\n",
    "        dataframe.loc[kpca_components_list,'Logistic'] = acclog[number]\n",
    "        dataframe.loc[kpca_components_list,'SVMl'] = accsvml[number]\n",
    "        dataframe.loc[kpca_components_list,'SVMnl'] = accsvmnl[number]\n",
    "        dataframe.loc[kpca_components_list,'KNN'] = accknn[number]\n",
    "        dataframe.loc[kpca_components_list,'Navie'] = accnav[number]\n",
    "        dataframe.loc[kpca_components_list,'Decision'] = accdes[number]\n",
    "        dataframe.loc[kpca_components_list,'Random'] = accrf[number]\n",
    "    return dataframe"
   ]
  },
  {
   "cell_type": "code",
   "execution_count": 14,
   "id": "ae336612-ded5-4b30-abec-d722e23cfcfe",
   "metadata": {},
   "outputs": [],
   "source": [
    "# 1. Split and Scale the cleaned data (Done only once)\n",
    "X_train_base, X_test_base, y_train_base, y_test_base = split_scalar(indep_X, dep_Y)\n",
    "\n",
    "# **HIGHLIGHT START: Define the range of KernelPCA components to test**\n",
    "# We'll test 2, 4, and 6 components. KPCA is not limited by C-1.\n",
    "kpca_components_to_test = [2, 4, 6]\n",
    "# **HIGHLIGHT END**\n",
    "\n",
    "# Initialize lists to store accuracies for each model across different KPCA runs\n",
    "acclog = []\n",
    "accsvml = []\n",
    "accsvmnl = []\n",
    "accknn = []\n",
    "accnav = []\n",
    "accdes = []\n",
    "accrf = []"
   ]
  },
  {
   "cell_type": "code",
   "execution_count": 15,
   "id": "b765581f-84b3-4f47-a26d-0e73166e7605",
   "metadata": {},
   "outputs": [],
   "source": [
    "# **HIGHLIGHT START: The main loop to iterate over KernelPCA components**\n",
    "kpca_component_names = [] # To store names like 'KPCA_2', 'KPCA_4' for the final DataFrame index\n",
    "\n",
    "for n_components in kpca_components_to_test:\n",
    "    # 2. Apply KernelPCA with the current number of components and RBF kernel\n",
    "    kpca = KernelPCA(\n",
    "        n_components=n_components,\n",
    "        kernel='rbf', \n",
    "        gamma=0.04 # A typical starting value for gamma in Wine-like datasets\n",
    "    )"
   ]
  },
  {
   "cell_type": "code",
   "execution_count": 16,
   "id": "a58fb361-d454-429b-a51e-316bc731d337",
   "metadata": {},
   "outputs": [
    {
     "data": {
      "text/html": [
       "<div>\n",
       "<style scoped>\n",
       "    .dataframe tbody tr th:only-of-type {\n",
       "        vertical-align: middle;\n",
       "    }\n",
       "\n",
       "    .dataframe tbody tr th {\n",
       "        vertical-align: top;\n",
       "    }\n",
       "\n",
       "    .dataframe thead th {\n",
       "        text-align: right;\n",
       "    }\n",
       "</style>\n",
       "<table border=\"1\" class=\"dataframe\">\n",
       "  <thead>\n",
       "    <tr style=\"text-align: right;\">\n",
       "      <th></th>\n",
       "      <th>Logistic</th>\n",
       "      <th>SVMl</th>\n",
       "      <th>SVMnl</th>\n",
       "      <th>KNN</th>\n",
       "      <th>Navie</th>\n",
       "      <th>Decision</th>\n",
       "      <th>Random</th>\n",
       "    </tr>\n",
       "  </thead>\n",
       "  <tbody>\n",
       "    <tr>\n",
       "      <th>KPCA_6</th>\n",
       "      <td>1.0</td>\n",
       "      <td>1.0</td>\n",
       "      <td>1.0</td>\n",
       "      <td>1.0</td>\n",
       "      <td>1.0</td>\n",
       "      <td>0.955556</td>\n",
       "      <td>0.977778</td>\n",
       "    </tr>\n",
       "  </tbody>\n",
       "</table>\n",
       "</div>"
      ],
      "text/plain": [
       "       Logistic SVMl SVMnl  KNN Navie  Decision    Random\n",
       "KPCA_6      1.0  1.0   1.0  1.0   1.0  0.955556  0.977778"
      ]
     },
     "execution_count": 16,
     "metadata": {},
     "output_type": "execute_result"
    }
   ],
   "source": [
    "# We must use the base (scaled, un-transformed) data for each new fit\n",
    "X_train_kpca = kpca.fit_transform(X_train_base, y_train_base)\n",
    "X_test_kpca = kpca.transform(X_test_base)\n",
    "\n",
    "# Set the data for classification\n",
    "X_train_final = X_train_kpca\n",
    "X_test_final = X_test_kpca\n",
    "    \n",
    "# Run all models and append results (using y_train_base/y_test_base)\n",
    "_, Accuracy, _, _ = logistic(X_train_final, y_train_base, X_test_final, y_test_base)\n",
    "acclog.append(Accuracy)\n",
    "\n",
    "_, Accuracy, _, _ = svm_linear(X_train_final, y_train_base, X_test_final, y_test_base)\n",
    "accsvml.append(Accuracy)\n",
    "\n",
    "_, Accuracy, _, _ = svm_NL(X_train_final, y_train_base, X_test_final, y_test_base)\n",
    "accsvmnl.append(Accuracy)\n",
    "\n",
    "_, Accuracy, _, _ = knn(X_train_final, y_train_base, X_test_final, y_test_base)\n",
    "accknn.append(Accuracy)\n",
    "\n",
    "_, Accuracy, _, _ = Navie(X_train_final, y_train_base, X_test_final, y_test_base)\n",
    "accnav.append(Accuracy)\n",
    "\n",
    "_, Accuracy, _, _ = Decision(X_train_final, y_train_base, X_test_final, y_test_base)\n",
    "accdes.append(Accuracy)\n",
    "\n",
    "_, Accuracy, _, _ = random(X_train_final, y_train_base, X_test_final, y_test_base)\n",
    "accrf.append(Accuracy)\n",
    "    \n",
    "kpca_component_names.append(f'KPCA_{n_components}') # Store the component name\n",
    "# **HIGHLIGHT END**\n",
    "\n",
    "# 3. Calling the classification summary function with the list of component names\n",
    "# **HIGHLIGHT START: Updated function call to KPCA_Classification**\n",
    "result = KPCA_Classification(acclog, accsvml, accsvmnl, accknn, accnav, accdes, accrf, kpca_component_names)\n",
    "# **HIGHLIGHT END**\n",
    "\n",
    "result"
   ]
  },
  {
   "cell_type": "code",
   "execution_count": null,
   "id": "e35ea636-467b-4cc1-a950-644418f872ce",
   "metadata": {},
   "outputs": [],
   "source": []
  }
 ],
 "metadata": {
  "kernelspec": {
   "display_name": "Python 3 (ipykernel)",
   "language": "python",
   "name": "python3"
  },
  "language_info": {
   "codemirror_mode": {
    "name": "ipython",
    "version": 3
   },
   "file_extension": ".py",
   "mimetype": "text/x-python",
   "name": "python",
   "nbconvert_exporter": "python",
   "pygments_lexer": "ipython3",
   "version": "3.12.7"
  }
 },
 "nbformat": 4,
 "nbformat_minor": 5
}
