{
 "cells": [
  {
   "cell_type": "code",
   "execution_count": 2,
   "id": "9df2b38f-1577-475b-95d3-46aa3935d1b6",
   "metadata": {},
   "outputs": [
    {
     "name": "stdout",
     "output_type": "stream",
     "text": [
      "0\n",
      "1\n",
      "2\n",
      "3\n",
      "4\n",
      "5\n",
      "6\n",
      "7\n",
      "8\n",
      "9\n",
      "10\n",
      "11\n",
      "12\n",
      "13\n",
      "14\n",
      "15\n",
      "16\n",
      "17\n",
      "18\n",
      "19\n"
     ]
    }
   ],
   "source": [
    "for num in range(0,20):\n",
    "    print(num)\n"
   ]
  },
  {
   "cell_type": "code",
   "execution_count": 5,
   "id": "680c2e80-f6e0-4646-a526-e329c5aaf35c",
   "metadata": {},
   "outputs": [
    {
     "name": "stdout",
     "output_type": "stream",
     "text": [
      "10 11 12 13 14 15 16 17 18 19 "
     ]
    }
   ],
   "source": [
    "for num in range(10,20):\n",
    "    print(num, end=\" \")"
   ]
  },
  {
   "cell_type": "code",
   "execution_count": 10,
   "id": "baf5859f-6f18-4bea-8ab6-5d0cea5c3150",
   "metadata": {},
   "outputs": [
    {
     "name": "stdout",
     "output_type": "stream",
     "text": [
      "[10, 20, 14, 55, 43, 87, 76]\n",
      "The number of elements in List2: \n",
      "7\n"
     ]
    }
   ],
   "source": [
    "List2=[10,20,14,55,43,87,76]\n",
    "print(List2)\n",
    "print(f\"The number of elements in List2: \\n{len(List2)}\")"
   ]
  },
  {
   "cell_type": "code",
   "execution_count": 14,
   "id": "7f6ab551-f5a1-40ad-9489-99ef7721bad2",
   "metadata": {},
   "outputs": [
    {
     "name": "stdout",
     "output_type": "stream",
     "text": [
      "Artificial Intelligence\n",
      "A\n",
      "r\n",
      "t\n",
      "i\n",
      "f\n",
      "i\n",
      "c\n",
      "i\n",
      "a\n",
      "l\n",
      " \n",
      "I\n",
      "n\n",
      "t\n",
      "e\n",
      "l\n",
      "l\n",
      "i\n",
      "g\n",
      "e\n",
      "n\n",
      "c\n",
      "e\n",
      "\n",
      "\n"
     ]
    }
   ],
   "source": [
    "str = \"Artificial Intelligence\"\n",
    "print(str)\n",
    "for letter in str:\n",
    "    print(letter)\n",
    "print(\"\\n\")"
   ]
  },
  {
   "cell_type": "code",
   "execution_count": 18,
   "id": "e15d626d-2953-483c-be8e-26aa396923f8",
   "metadata": {},
   "outputs": [
    {
     "name": "stdin",
     "output_type": "stream",
     "text": [
      "-Your Name- shankar\n"
     ]
    },
    {
     "name": "stdout",
     "output_type": "stream",
     "text": [
      "-Your Name- shankar\n"
     ]
    },
    {
     "name": "stdin",
     "output_type": "stream",
     "text": [
      "-Your Age- 46\n"
     ]
    },
    {
     "name": "stdout",
     "output_type": "stream",
     "text": [
      "-Your Age- 46\n"
     ]
    },
    {
     "name": "stdin",
     "output_type": "stream",
     "text": [
      "-Your Profession- IT\n"
     ]
    },
    {
     "name": "stdout",
     "output_type": "stream",
     "text": [
      "-Your Profession- IT\n"
     ]
    }
   ],
   "source": [
    "Name=input(\"-Your Name-\")\n",
    "print(\"-Your Name-\",Name)\n",
    "Age=int(input(\"-Your Age-\"))\n",
    "print(\"-Your Age-\",Age)\n",
    "Profession=input(\"-Your Profession-\")\n",
    "print(\"-Your Profession-\",Profession)\n"
   ]
  },
  {
   "cell_type": "code",
   "execution_count": 19,
   "id": "39c3059b-33e5-44d5-ad4b-77a42626d94f",
   "metadata": {},
   "outputs": [
    {
     "name": "stdout",
     "output_type": "stream",
     "text": [
      "(1, 'Welcome', 2, 'Hope')\n"
     ]
    }
   ],
   "source": [
    "tup=(1, 'Welcome', 2, 'Hope')\n",
    "print(tup)"
   ]
  },
  {
   "cell_type": "code",
   "execution_count": 21,
   "id": "85b1017d-80a2-4707-b119-c765a622dbab",
   "metadata": {},
   "outputs": [
    {
     "name": "stdout",
     "output_type": "stream",
     "text": [
      "((0, 1, 2, 3), ('python', 'HOPE'))\n"
     ]
    }
   ],
   "source": [
    "tuple1 = (0, 1, 2, 3)\n",
    "tuple2 = ('python', 'HOPE')\n",
    "tuple3 = (tuple1, tuple2)\n",
    "print(tuple3)"
   ]
  },
  {
   "cell_type": "code",
   "execution_count": 26,
   "id": "16ff0830-0731-4b59-a3ca-0e55e7e2595a",
   "metadata": {},
   "outputs": [
    {
     "name": "stdout",
     "output_type": "stream",
     "text": [
      "19 is odd\n",
      "25 is odd\n",
      "1 is odd\n"
     ]
    }
   ],
   "source": [
    "LIST=[20,10,16,19,25,1,276,188]\n",
    "for num in LIST:\n",
    "    if(num%2!=0):\n",
    "        print(num, \"is odd\")"
   ]
  },
  {
   "cell_type": "code",
   "execution_count": 27,
   "id": "8fbecb6a-667b-45ac-9274-a92b99e11ad0",
   "metadata": {},
   "outputs": [
    {
     "name": "stdout",
     "output_type": "stream",
     "text": [
      "20 is even\n",
      "10 is even\n",
      "16 is even\n",
      "276 is even\n",
      "188 is even\n"
     ]
    }
   ],
   "source": [
    "LIST=[20,10,16,19,1,276,188]\n",
    "for num in LIST:\n",
    "    if(num%2==0):\n",
    "        print(num, \"is even\")   \n"
   ]
  },
  {
   "cell_type": "code",
   "execution_count": null,
   "id": "9d8360ae-2395-4790-bec3-286cd7ca3392",
   "metadata": {},
   "outputs": [],
   "source": []
  }
 ],
 "metadata": {
  "kernelspec": {
   "display_name": "Python 3 (ipykernel)",
   "language": "python",
   "name": "python3"
  },
  "language_info": {
   "codemirror_mode": {
    "name": "ipython",
    "version": 3
   },
   "file_extension": ".py",
   "mimetype": "text/x-python",
   "name": "python",
   "nbconvert_exporter": "python",
   "pygments_lexer": "ipython3",
   "version": "3.12.7"
  }
 },
 "nbformat": 4,
 "nbformat_minor": 5
}
