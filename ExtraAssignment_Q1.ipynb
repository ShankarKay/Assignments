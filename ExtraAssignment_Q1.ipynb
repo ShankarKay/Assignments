{
 "cells": [
  {
   "cell_type": "code",
   "execution_count": 1,
   "id": "92eca7be-fed7-4b32-bc45-dc99f625a774",
   "metadata": {},
   "outputs": [
    {
     "name": "stdout",
     "output_type": "stream",
     "text": [
      "Hope AI\n"
     ]
    }
   ],
   "source": [
    "print(\"Hope AI\")"
   ]
  },
  {
   "cell_type": "code",
   "execution_count": 5,
   "id": "35027aaa-8445-480b-ba87-985a919632ea",
   "metadata": {},
   "outputs": [
    {
     "name": "stdin",
     "output_type": "stream",
     "text": [
      "Enter your institute name?: Hope AI\n"
     ]
    },
    {
     "name": "stdout",
     "output_type": "stream",
     "text": [
      "Enter your institute name?: Hope AI\n"
     ]
    }
   ],
   "source": [
    "InsName=input(\"Enter your institute name?:\")\n",
    "print(\"Enter your institute name?:\",InsName)"
   ]
  },
  {
   "cell_type": "code",
   "execution_count": 9,
   "id": "25804c4f-6adc-455e-991c-efb068b8afe2",
   "metadata": {},
   "outputs": [
    {
     "name": "stdin",
     "output_type": "stream",
     "text": [
      "Enter your Name: Raj\n"
     ]
    },
    {
     "name": "stdout",
     "output_type": "stream",
     "text": [
      "Raj\n"
     ]
    },
    {
     "name": "stdin",
     "output_type": "stream",
     "text": [
      "Enter your Age: 15\n"
     ]
    },
    {
     "name": "stdout",
     "output_type": "stream",
     "text": [
      "15\n"
     ]
    },
    {
     "name": "stdin",
     "output_type": "stream",
     "text": [
      "Enter your School Name: ABC College\n"
     ]
    },
    {
     "name": "stdout",
     "output_type": "stream",
     "text": [
      "ABC College\n"
     ]
    },
    {
     "name": "stdin",
     "output_type": "stream",
     "text": [
      "Enter your Degree: BE\n"
     ]
    }
   ],
   "source": [
    "Name=input(\"Enter your Name:\")\n",
    "print(Name)\n",
    "Age=int(input(\"Enter your Age:\"))\n",
    "print(Age)\n",
    "School=input(\"Enter your School Name:\")\n",
    "print(School)\n",
    "Degree=input(\"Enter your Degree:\")\n",
    "print(Degree)"
   ]
  },
  {
   "cell_type": "code",
   "execution_count": 12,
   "id": "85c6da60-6909-4612-8a9b-0919405ce535",
   "metadata": {},
   "outputs": [
    {
     "name": "stdin",
     "output_type": "stream",
     "text": [
      "Enter number a 20\n",
      "Enter number b 40\n"
     ]
    },
    {
     "name": "stdout",
     "output_type": "stream",
     "text": [
      "The addition of numbers is: 60\n"
     ]
    }
   ],
   "source": [
    "a=int(input(\"Enter number a\"))\n",
    "b=int(input(\"Enter number b\"))\n",
    "add=a+b\n",
    "print(\"The addition of numbers is:\", add)"
   ]
  },
  {
   "cell_type": "code",
   "execution_count": 13,
   "id": "2abc85bf-c76e-409a-8ff0-bd426ac9785c",
   "metadata": {},
   "outputs": [
    {
     "name": "stdin",
     "output_type": "stream",
     "text": [
      "Enter number a 50\n",
      "Enter number b 20\n"
     ]
    },
    {
     "name": "stdout",
     "output_type": "stream",
     "text": [
      "The subtraction of numbers is: 30\n"
     ]
    }
   ],
   "source": [
    "a=int(input(\"Enter number a\"))\n",
    "b=int(input(\"Enter number b\"))\n",
    "sub=a-b\n",
    "print(\"The subtraction of numbers is:\", sub)"
   ]
  },
  {
   "cell_type": "code",
   "execution_count": 14,
   "id": "55240354-ddd5-4d3a-9892-07eaeaa8ab59",
   "metadata": {},
   "outputs": [
    {
     "name": "stdin",
     "output_type": "stream",
     "text": [
      "Enter number a 10\n",
      "Enter number b 20\n"
     ]
    },
    {
     "name": "stdout",
     "output_type": "stream",
     "text": [
      "The Multiplication of numbers is: 200\n"
     ]
    }
   ],
   "source": [
    "a=int(input(\"Enter number a\"))\n",
    "b=int(input(\"Enter number b\"))\n",
    "Mul=a*b\n",
    "print(\"The Multiplication of numbers is:\", Mul)"
   ]
  },
  {
   "cell_type": "code",
   "execution_count": 15,
   "id": "991a9235-88ea-4bf7-9636-f9d955450574",
   "metadata": {},
   "outputs": [
    {
     "name": "stdin",
     "output_type": "stream",
     "text": [
      "Enter number a 60\n",
      "Enter number b 10\n"
     ]
    },
    {
     "name": "stdout",
     "output_type": "stream",
     "text": [
      "The Division of numbers is: 6.0\n"
     ]
    }
   ],
   "source": [
    "a=int(input(\"Enter number a\"))\n",
    "b=int(input(\"Enter number b\"))\n",
    "Div=a/b\n",
    "print(\"The Division of numbers is:\", Div)"
   ]
  },
  {
   "cell_type": "code",
   "execution_count": 18,
   "id": "163fb6b6-96ae-459c-a017-8ee8ace225ea",
   "metadata": {},
   "outputs": [
    {
     "name": "stdin",
     "output_type": "stream",
     "text": [
      "Enter number a 90\n",
      "Enter number b 60\n"
     ]
    },
    {
     "name": "stdout",
     "output_type": "stream",
     "text": [
      "The Division of numbers is: 1\n"
     ]
    }
   ],
   "source": [
    "a=int(input(\"Enter number a\"))\n",
    "b=int(input(\"Enter number b\"))\n",
    "FloorDiv=a//b\n",
    "print(\"The Floor Division of numbers is:\", FloorDiv)"
   ]
  },
  {
   "cell_type": "code",
   "execution_count": 20,
   "id": "98099519-aeda-4579-aff1-b58bdf2d59b6",
   "metadata": {},
   "outputs": [
    {
     "name": "stdin",
     "output_type": "stream",
     "text": [
      "Enter number a 13\n",
      "Enter number b 3\n"
     ]
    },
    {
     "name": "stdout",
     "output_type": "stream",
     "text": [
      "The Modulus Division of numbers is: 1\n"
     ]
    }
   ],
   "source": [
    "a=int(input(\"Enter number a\"))\n",
    "b=int(input(\"Enter number b\"))\n",
    "Modulo=a%b\n",
    "print(\"The Modulus Division of numbers is:\", Modulo)"
   ]
  },
  {
   "cell_type": "code",
   "execution_count": 22,
   "id": "0c8037da-1e9c-49d3-998f-04819f2c20cf",
   "metadata": {},
   "outputs": [
    {
     "name": "stdin",
     "output_type": "stream",
     "text": [
      "Enter number a 3\n",
      "Enter number b 3\n"
     ]
    },
    {
     "name": "stdout",
     "output_type": "stream",
     "text": [
      "The Modulus Division of numbers is: 27\n"
     ]
    }
   ],
   "source": [
    "a=int(input(\"Enter number a\"))\n",
    "b=int(input(\"Enter number b\"))\n",
    "Power=a**b\n",
    "print(\"The Modulus Division of numbers is:\", Power)"
   ]
  },
  {
   "cell_type": "code",
   "execution_count": null,
   "id": "fa99a62c-14ed-44db-ad0d-d5a9a6883603",
   "metadata": {},
   "outputs": [],
   "source": []
  }
 ],
 "metadata": {
  "kernelspec": {
   "display_name": "Python 3 (ipykernel)",
   "language": "python",
   "name": "python3"
  },
  "language_info": {
   "codemirror_mode": {
    "name": "ipython",
    "version": 3
   },
   "file_extension": ".py",
   "mimetype": "text/x-python",
   "name": "python",
   "nbconvert_exporter": "python",
   "pygments_lexer": "ipython3",
   "version": "3.12.7"
  }
 },
 "nbformat": 4,
 "nbformat_minor": 5
}
