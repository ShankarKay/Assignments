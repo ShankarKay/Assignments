{
 "cells": [
  {
   "cell_type": "code",
   "execution_count": 1,
   "id": "23274403-2fce-41a9-b277-ff474e3e9cbd",
   "metadata": {},
   "outputs": [
    {
     "name": "stderr",
     "output_type": "stream",
     "text": [
      "C:\\Anaconda3\\Lib\\site-packages\\sklearn\\base.py:493: UserWarning: X does not have valid feature names, but LinearRegression was fitted with feature names\n",
      "  warnings.warn(\n"
     ]
    }
   ],
   "source": [
    "#importing pandas library which handles tables. This loads all the functions in the library. The name is renamed as pd\n",
    "import pandas as pd\n",
    "\n",
    "#Calling function \"read_csv\" and passing the parameters from \"Salary_Data.csv\"\n",
    "dataset=pd.read_csv(\"Salary_Data.csv\")\n",
    "\n",
    "#Displaying the contents in 'dataset'\n",
    "#dataset\n",
    "\n",
    "#Assigning the column \"YearsExperience\" to an independent variable. Multiple columns can be assigned by adding comma\n",
    "independent=dataset[[\"YearsExperience\"]]\n",
    "\n",
    "#Assigning the column \"Salary\" to the dependent variable.\n",
    "dependent=dataset[[\"Salary\"]]\n",
    "\n",
    "#The input and the outputs are separated.\n",
    "\n",
    "#Splitting training and test sets\n",
    "#sklearn function is used to split the test and training sets. we are importing only a particular a function called train_test_split \n",
    "\n",
    "from sklearn.model_selection import train_test_split\n",
    "\n",
    "#pass the parameters independent and dependent to the function.\n",
    "#Giving a test size. The test size should be less than the train size\n",
    "#Only when it is saved as a variable it can be used as an input for other functions\n",
    "\n",
    "X_train,X_test,y_train,y_test=train_test_split(independent, dependent, test_size=0.30, random_state=0)\n",
    "\n",
    "#test and train sets are separated. sklearn library can be used only when split into train and test sets.\n",
    "\n",
    "#Creating a model. Learning phase starts here\n",
    "from sklearn.linear_model import LinearRegression\n",
    "#All the functions of LinearRegression class are assigned to the variable 'regressor'\n",
    "regressor=LinearRegression()\n",
    "\n",
    "#The inputs are substituted. Helps in calculating Weight and Bias\n",
    "regressor.fit(X_train,y_train)\n",
    "\n",
    "#The values in coef_ is saved to variable weight\n",
    "weight=regressor.coef_\n",
    "#weight\n",
    "\n",
    "#The bias value is stored from intercept_\n",
    "bias=regressor.intercept_\n",
    "#bias\n",
    "\n",
    "#Saving a model. Predict is the function name\n",
    "y_pred=regressor.predict(X_test)\n",
    "\n",
    "from sklearn.metrics import r2_score\n",
    "r_score=r2_score(y_test,y_pred)\n",
    "\n",
    "#The model is doing well as its value is close to 1.\n",
    "#r_score\n",
    "\n",
    "#used to save the model\n",
    "import pickle\n",
    "\n",
    "#filename given for finalized model\n",
    "filename=\"finalized_model_linear.sav\"\n",
    "\n",
    "pickle.dump(regressor,open(filename, 'wb'))\n",
    "#model saved successfully\n",
    "\n",
    "#'rb' represents that the file is available for reading\n",
    "loaded_model=pickle.load(open(\"finalized_model_linear.sav\", 'rb'))\n",
    "\n",
    "result=loaded_model.predict([[13]])"
   ]
  },
  {
   "cell_type": "code",
   "execution_count": 15,
   "id": "6103ce27-eeb3-4295-8771-5ed895310197",
   "metadata": {},
   "outputs": [
    {
     "data": {
      "text/plain": [
       "array([[148460.78806172]])"
      ]
     },
     "execution_count": 15,
     "metadata": {},
     "output_type": "execute_result"
    }
   ],
   "source": [
    "result"
   ]
  },
  {
   "cell_type": "code",
   "execution_count": null,
   "id": "fd001814-f6ad-4260-b79f-cba23ed47dab",
   "metadata": {},
   "outputs": [],
   "source": []
  }
 ],
 "metadata": {
  "kernelspec": {
   "display_name": "Python 3 (ipykernel)",
   "language": "python",
   "name": "python3"
  },
  "language_info": {
   "codemirror_mode": {
    "name": "ipython",
    "version": 3
   },
   "file_extension": ".py",
   "mimetype": "text/x-python",
   "name": "python",
   "nbconvert_exporter": "python",
   "pygments_lexer": "ipython3",
   "version": "3.12.7"
  }
 },
 "nbformat": 4,
 "nbformat_minor": 5
}
