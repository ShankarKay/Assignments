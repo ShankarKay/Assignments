{
 "cells": [
  {
   "cell_type": "code",
   "execution_count": 1,
   "id": "b1c9af2a-4670-4273-a3e8-9105a195fb5c",
   "metadata": {},
   "outputs": [],
   "source": [
    "import time\n",
    "import numpy as np\n",
    "import pandas as pd\n",
    "from sklearn.preprocessing import StandardScaler\n",
    "from sklearn.decomposition import PCA\n",
    "from sklearn.linear_model import LogisticRegression\n",
    "from sklearn.svm import SVC\n",
    "from sklearn.naive_bayes import GaussianNB\n",
    "from sklearn.neighbors import KNeighborsClassifier\n",
    "from sklearn.tree import DecisionTreeClassifier\n",
    "from sklearn.ensemble import RandomForestClassifier\n",
    "from sklearn.metrics import accuracy_score, classification_report, confusion_matrix\n",
    "import pickle\n",
    "import matplotlib.pyplot as plt\n",
    "from sklearn.discriminant_analysis import LinearDiscriminantAnalysis as LDA\n",
    "from sklearn.model_selection import train_test_split"
   ]
  },
  {
   "cell_type": "code",
   "execution_count": 2,
   "id": "cc26d444-ecc1-4c9e-85db-229a7f12c3e5",
   "metadata": {},
   "outputs": [],
   "source": [
    "# --- Data Loading and Preprocessing ---\n",
    "dataset1 = pd.read_csv(\"Wine.csv\", index_col=None)\n",
    "df2 = dataset1"
   ]
  },
  {
   "cell_type": "code",
   "execution_count": 3,
   "id": "a8112cc2-b5c1-4479-9a61-6d1a416aedb0",
   "metadata": {},
   "outputs": [],
   "source": [
    "# Convert all columns to a numeric type, forcing errors to become NaN\n",
    "for column in df2.columns:\n",
    "    df2[column] = pd.to_numeric(df2[column], errors='coerce')"
   ]
  },
  {
   "cell_type": "code",
   "execution_count": 4,
   "id": "fb7074dd-764d-494e-82fa-ce2a4a08d0a8",
   "metadata": {},
   "outputs": [],
   "source": [
    "# Handle NaN values by imputing with the mean of each column\n",
    "for column in df2.columns:\n",
    "    if df2[column].isnull().any():\n",
    "        df2[column] = df2[column].fillna(df2[column].mean())"
   ]
  },
  {
   "cell_type": "code",
   "execution_count": 5,
   "id": "0246b61b-ad25-47f8-b857-2f42ca90ec03",
   "metadata": {},
   "outputs": [],
   "source": [
    "# Replace infinity values with NaN, then impute them\n",
    "df2.replace([np.inf, -np.inf], np.nan, inplace=True)\n",
    "for column in df2.columns:\n",
    "    if df2[column].isnull().any():\n",
    "        df2[column] = df2[column].fillna(df2[column].mean())"
   ]
  },
  {
   "cell_type": "code",
   "execution_count": 6,
   "id": "cf09829f-eac9-4ed3-9ab5-484d31b4521f",
   "metadata": {},
   "outputs": [],
   "source": [
    "# Split the data into independent and dependent variables\n",
    "# Assuming 'Customer_Segment' is the target column\n",
    "indep_X = df2.drop('Customer_Segment', axis=1).values\n",
    "dep_Y = df2['Customer_Segment'].values"
   ]
  },
  {
   "cell_type": "code",
   "execution_count": 7,
   "id": "77b385a6-e0d1-435a-b615-85000adc7cbe",
   "metadata": {},
   "outputs": [],
   "source": [
    "# --- Function Definitions ---\n",
    "def split_scalar(indep_X, dep_Y):\n",
    "    \"\"\"Splits data into training and testing sets and scales them.\"\"\"\n",
    "    X_train, X_test, y_train, y_test = train_test_split(indep_X, dep_Y, test_size=0.25, random_state=0)\n",
    "    sc = StandardScaler()\n",
    "    X_train = sc.fit_transform(X_train)\n",
    "    X_test = sc.transform(X_test)\n",
    "    return X_train, X_test, y_train, y_test"
   ]
  },
  {
   "cell_type": "code",
   "execution_count": 8,
   "id": "b901430f-901e-4b00-892a-d7dd8880b166",
   "metadata": {},
   "outputs": [],
   "source": [
    "def cm_prediction(classifier, X_test, y_test):\n",
    "    \"\"\"Makes predictions, calculates metrics, and returns them.\"\"\"\n",
    "    y_pred = classifier.predict(X_test)\n",
    "    cm = confusion_matrix(y_test, y_pred)\n",
    "    report = classification_report(y_test, y_pred) \n",
    "    Accuracy = accuracy_score(y_test, y_pred)\n",
    "    # Return Accuracy, report, and confusion matrix\n",
    "    return classifier, Accuracy, report, cm"
   ]
  },
  {
   "cell_type": "code",
   "execution_count": 9,
   "id": "a94bd980-13da-4d70-a787-28b02b5e96d9",
   "metadata": {},
   "outputs": [],
   "source": [
    "def logistic(X_train, y_train, X_test, y_test):\n",
    "    # Fitting Logistic Regression to the Training set\n",
    "    classifier = LogisticRegression(random_state=0) # Added random_state for reproducibility\n",
    "    classifier.fit(X_train, y_train)\n",
    "    return cm_prediction(classifier, X_test, y_test)"
   ]
  },
  {
   "cell_type": "code",
   "execution_count": 10,
   "id": "2659a225-09cc-4a74-8ae3-5f6f792e81a7",
   "metadata": {},
   "outputs": [],
   "source": [
    "def svm_linear(X_train, y_train, X_test, y_test):\n",
    "    classifier = SVC(kernel='linear', random_state=0)\n",
    "    classifier.fit(X_train, y_train)\n",
    "    return cm_prediction(classifier, X_test, y_test)"
   ]
  },
  {
   "cell_type": "code",
   "execution_count": 11,
   "id": "9a4a080d-52ed-4242-9d23-a36f0be6ab34",
   "metadata": {},
   "outputs": [],
   "source": [
    "def svm_NL(X_train, y_train, X_test, y_test):\n",
    "    classifier = SVC(kernel='rbf', random_state=0)\n",
    "    classifier.fit(X_train, y_train)\n",
    "    return cm_prediction(classifier, X_test, y_test)"
   ]
  },
  {
   "cell_type": "code",
   "execution_count": 12,
   "id": "e28afee4-d6af-4211-bd6b-0115239d3e67",
   "metadata": {},
   "outputs": [],
   "source": [
    "def Navie(X_train, y_train, X_test, y_test):\n",
    "    # Fitting GaussianNB to the training set\n",
    "    classifier = GaussianNB()\n",
    "    classifier.fit(X_train, y_train)\n",
    "    return cm_prediction(classifier, X_test, y_test)"
   ]
  },
  {
   "cell_type": "code",
   "execution_count": 13,
   "id": "9c675ef0-11ab-4055-86dd-7e36bc8f1c74",
   "metadata": {},
   "outputs": [],
   "source": [
    "def knn(X_train, y_train, X_test, y_test):\n",
    "    # Fitting K-NN to the training set\n",
    "    classifier = KNeighborsClassifier(n_neighbors=5, metric='minkowski', p=2)\n",
    "    classifier.fit(X_train, y_train)\n",
    "    return cm_prediction(classifier, X_test, y_test)"
   ]
  },
  {
   "cell_type": "code",
   "execution_count": 14,
   "id": "ac9df10e-82d8-49c1-8e41-dea0f621ab82",
   "metadata": {},
   "outputs": [],
   "source": [
    "def Decision(X_train, y_train, X_test, y_test):\n",
    "    # Fitting Decision Tree to the Training set\n",
    "    classifier = DecisionTreeClassifier(criterion='entropy', random_state=0)\n",
    "    classifier.fit(X_train, y_train)\n",
    "    return cm_prediction(classifier, X_test, y_test)"
   ]
  },
  {
   "cell_type": "code",
   "execution_count": 15,
   "id": "ace3229e-92f6-4052-be29-d9a5e3e842c8",
   "metadata": {},
   "outputs": [],
   "source": [
    "def random(X_train, y_train, X_test, y_test):\n",
    "    # Fitting Random Forest to the Training set\n",
    "    classifier = RandomForestClassifier(n_estimators=10, criterion='entropy', random_state=0)\n",
    "    classifier.fit(X_train, y_train)\n",
    "    return cm_prediction(classifier, X_test, y_test)"
   ]
  },
  {
   "cell_type": "code",
   "execution_count": 16,
   "id": "04668f4d-e17b-40e0-a687-63bc186c1730",
   "metadata": {},
   "outputs": [],
   "source": [
    "def LDA_Classification(acclog, accsvml, accsvmnl, accknn, accnav, accdes, accrf):\n",
    "    dataframe = pd.DataFrame(index=['LDA'], columns=['Logistic','SVMl','SVMnl','KNN','Navie','Decision','Random'])\n",
    "    for number, idex in enumerate(dataframe.index):\n",
    "        # Index is 'LDA', so number will be 0.\n",
    "        dataframe.loc['LDA','Logistic'] = acclog[number]\n",
    "        dataframe.loc['LDA','SVMl'] = accsvml[number]\n",
    "        dataframe.loc['LDA','SVMnl'] = accsvmnl[number]\n",
    "        dataframe.loc['LDA','KNN'] = accknn[number]\n",
    "        dataframe.loc['LDA','Navie'] = accnav[number]\n",
    "        dataframe.loc['LDA','Decision'] = accdes[number]\n",
    "        dataframe.loc['LDA','Random'] = accrf[number]\n",
    "    return dataframe"
   ]
  },
  {
   "cell_type": "code",
   "execution_count": 17,
   "id": "89bba8af-5b03-446a-951e-2cb2d4c61a5a",
   "metadata": {},
   "outputs": [],
   "source": [
    "# --- Main Execution Flow (Corrected) ---\n",
    "\n",
    "# 1. Split and Scale the cleaned data\n",
    "X_train, X_test, y_train, y_test = split_scalar(indep_X, dep_Y)"
   ]
  },
  {
   "cell_type": "code",
   "execution_count": 18,
   "id": "7c84fe38-1a6e-4ccf-bc02-f74b602c946b",
   "metadata": {},
   "outputs": [],
   "source": [
    "# 2. Apply LDA\n",
    "lda_components_to_test = [1, 2]\n",
    "lda = LDA(n_components=2)\n",
    "X_train_lda = lda.fit_transform(X_train, y_train)\n",
    "X_test_lda = lda.transform(X_test)"
   ]
  },
  {
   "cell_type": "code",
   "execution_count": 19,
   "id": "049177b5-0547-4b30-bd8f-10a4c656a635",
   "metadata": {},
   "outputs": [],
   "source": [
    "# Use the LDA transformed data for classification\n",
    "X_train_final = X_train_lda\n",
    "X_test_final = X_test_lda"
   ]
  },
  {
   "cell_type": "code",
   "execution_count": 20,
   "id": "c75c4918-919e-4669-8eb2-ac01abcfeb4e",
   "metadata": {},
   "outputs": [],
   "source": [
    "# Initialise lists to store accuracies\n",
    "acclog=[]\n",
    "accsvml=[]\n",
    "accsvmnl=[]\n",
    "accknn=[]\n",
    "accnav=[]\n",
    "accdes=[]\n",
    "accrf=[]"
   ]
  },
  {
   "cell_type": "code",
   "execution_count": 21,
   "id": "b39e69d0-7d4f-4638-9bfc-7014757ad640",
   "metadata": {},
   "outputs": [
    {
     "data": {
      "text/html": [
       "<div>\n",
       "<style scoped>\n",
       "    .dataframe tbody tr th:only-of-type {\n",
       "        vertical-align: middle;\n",
       "    }\n",
       "\n",
       "    .dataframe tbody tr th {\n",
       "        vertical-align: top;\n",
       "    }\n",
       "\n",
       "    .dataframe thead th {\n",
       "        text-align: right;\n",
       "    }\n",
       "</style>\n",
       "<table border=\"1\" class=\"dataframe\">\n",
       "  <thead>\n",
       "    <tr style=\"text-align: right;\">\n",
       "      <th></th>\n",
       "      <th>Logistic</th>\n",
       "      <th>SVMl</th>\n",
       "      <th>SVMnl</th>\n",
       "      <th>KNN</th>\n",
       "      <th>Navie</th>\n",
       "      <th>Decision</th>\n",
       "      <th>Random</th>\n",
       "    </tr>\n",
       "  </thead>\n",
       "  <tbody>\n",
       "    <tr>\n",
       "      <th>LDA</th>\n",
       "      <td>1.0</td>\n",
       "      <td>0.977778</td>\n",
       "      <td>1.0</td>\n",
       "      <td>0.977778</td>\n",
       "      <td>0.977778</td>\n",
       "      <td>0.977778</td>\n",
       "      <td>0.977778</td>\n",
       "    </tr>\n",
       "  </tbody>\n",
       "</table>\n",
       "</div>"
      ],
      "text/plain": [
       "    Logistic      SVMl SVMnl       KNN     Navie  Decision    Random\n",
       "LDA      1.0  0.977778   1.0  0.977778  0.977778  0.977778  0.977778"
      ]
     },
     "execution_count": 21,
     "metadata": {},
     "output_type": "execute_result"
    }
   ],
   "source": [
    "# Running the models on the LDA transformed data\n",
    "_, Accuracy, _, _ = logistic(X_train_final, y_train, X_test_final, y_test)\n",
    "acclog.append(Accuracy)\n",
    "\n",
    "_, Accuracy, _, _ = svm_linear(X_train_final, y_train, X_test_final, y_test)\n",
    "accsvml.append(Accuracy)\n",
    "\n",
    "_, Accuracy, _, _ = svm_NL(X_train_final, y_train, X_test_final, y_test)\n",
    "accsvmnl.append(Accuracy)\n",
    "\n",
    "_, Accuracy, _, _ = knn(X_train_final, y_train, X_test_final, y_test)\n",
    "accknn.append(Accuracy)\n",
    "\n",
    "_, Accuracy, _, _ = Navie(X_train_final, y_train, X_test_final, y_test)\n",
    "accnav.append(Accuracy)\n",
    "\n",
    "_, Accuracy, _, _ = Decision(X_train_final, y_train, X_test_final, y_test)\n",
    "accdes.append(Accuracy)\n",
    "\n",
    "_, Accuracy, _, _ = random(X_train_final, y_train, X_test_final, y_test)\n",
    "accrf.append(Accuracy)\n",
    "\n",
    "# Calling the classification summary function (renamed from PCA_Classification)\n",
    "result = LDA_Classification(acclog, accsvml, accsvmnl, accknn, accnav, accdes, accrf)\n",
    "result"
   ]
  },
  {
   "cell_type": "code",
   "execution_count": null,
   "id": "4da7eb88-34db-491a-8096-e2893cf711c3",
   "metadata": {},
   "outputs": [],
   "source": []
  }
 ],
 "metadata": {
  "kernelspec": {
   "display_name": "Python 3 (ipykernel)",
   "language": "python",
   "name": "python3"
  },
  "language_info": {
   "codemirror_mode": {
    "name": "ipython",
    "version": 3
   },
   "file_extension": ".py",
   "mimetype": "text/x-python",
   "name": "python",
   "nbconvert_exporter": "python",
   "pygments_lexer": "ipython3",
   "version": "3.12.7"
  }
 },
 "nbformat": 4,
 "nbformat_minor": 5
}
