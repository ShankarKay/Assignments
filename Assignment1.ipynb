{
 "cells": [
  {
   "cell_type": "code",
   "execution_count": 1,
   "id": "049163c9-66dd-45d3-90a2-e0610f70ed59",
   "metadata": {},
   "outputs": [
    {
     "name": "stdout",
     "output_type": "stream",
     "text": [
      "Welcome to Assignment 1\n"
     ]
    }
   ],
   "source": [
    "print(\"Welcome to Assignment 1\")"
   ]
  },
  {
   "cell_type": "code",
   "execution_count": 4,
   "id": "fb07dc8d-17f0-4290-98de-8861badc61e5",
   "metadata": {},
   "outputs": [
    {
     "name": "stdout",
     "output_type": "stream",
     "text": [
      "Num1= 10\n",
      "Num2= 30\n",
      "Add= 40\n"
     ]
    }
   ],
   "source": [
    "Num1=10\n",
    "Num2=30\n",
    "Add=Num1+Num2\n",
    "print(\"Num1=\",Num1)\n",
    "print(\"Num2=\",Num2)\n",
    "print(\"Add=\",Add)\n"
   ]
  },
  {
   "cell_type": "code",
   "execution_count": 3,
   "id": "a31294ed-57c8-490f-8134-57b6c912b5ae",
   "metadata": {},
   "outputs": [
    {
     "name": "stdin",
     "output_type": "stream",
     "text": [
      "Enter the BMI index:  23\n"
     ]
    },
    {
     "name": "stdout",
     "output_type": "stream",
     "text": [
      "23\n",
      "Normal weight\n"
     ]
    }
   ],
   "source": [
    "BMI = int(input(\"Enter the BMI index: \"))\n",
    "print(BMI)\n",
    "if BMI < 16:\n",
    "    print(\"Severely Underweight\")\n",
    "elif BMI < 18.5:\n",
    "    print(\"Underweight\")\n",
    "elif BMI < 25:\n",
    "    print(\"Normal weight\")\n",
    "elif BMI < 30:\n",
    "    print(\"Overweight\")\n",
    "else:\n",
    "    print(\"Obese\")"
   ]
  },
  {
   "cell_type": "code",
   "execution_count": null,
   "id": "2c1a5b1b-f938-4e48-892e-e7782dfe0eca",
   "metadata": {},
   "outputs": [],
   "source": []
  }
 ],
 "metadata": {
  "kernelspec": {
   "display_name": "Python 3 (ipykernel)",
   "language": "python",
   "name": "python3"
  },
  "language_info": {
   "codemirror_mode": {
    "name": "ipython",
    "version": 3
   },
   "file_extension": ".py",
   "mimetype": "text/x-python",
   "name": "python",
   "nbconvert_exporter": "python",
   "pygments_lexer": "ipython3",
   "version": "3.12.7"
  }
 },
 "nbformat": 4,
 "nbformat_minor": 5
}
